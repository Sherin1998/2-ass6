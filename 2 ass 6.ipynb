{
 "cells": [
  {
   "cell_type": "code",
   "execution_count": 5,
   "metadata": {},
   "outputs": [
    {
     "name": "stdout",
     "output_type": "stream",
     "text": [
      "89\n",
      "Disarium\n"
     ]
    }
   ],
   "source": [
    "#1\n",
    "Applications are\n",
    "\n",
    "1. Database Connection : While working with databases and file systems it is necessary to close a file after the use.Using exception handling make sure that file has been closed even if user fails to close it\n",
    "2. Arithemetic Errors : Exceptions are arised when there is arithemetic errors in a program such as zero division error.These situations can be handled by exception handling.Moreover these errors can be easily understood by a non programmer by printing meaningful statements.\n",
    "3. operating systems use exception handling to resolve deadlocks,recover from crash and so forth.  "
   ]
  },
  {
   "cell_type": "markdown",
   "metadata": {},
   "source": [
    "#2 \n",
    "It no change is made when an exception is thrown ,it repeats during each execution each time throwing exceptions.It could lead to data loss and crash of program.\n",
    "\n",
    "        "
   ]
  },
  {
   "cell_type": "markdown",
   "metadata": {},
   "source": [
    "#3\n",
    "\n",
    "The portion of code which tends to give exception is placed in try clause.So whenever there is an exception arrised during runtime is can be handled.Using structured exception handling and a set of pre-defined exceptions, Python programs can determine the error type at run time and act accordingly. These can include actions like taking an alternate path, using default values, or prompting for correct input.\n",
    "    \n",
    "      \n",
    "    \n",
    "        \n",
    "       \n",
    "      \n",
    "      \n",
    "    \n",
    "    \n",
    "    \n",
    "    "
   ]
  },
  {
   "cell_type": "markdown",
   "metadata": {},
   "source": [
    "#4\n",
    "An unhandled exception displays an error message and the program suddenly crashes.Inorder to handle these situations, 2 methods are used.\n",
    "\n",
    "Try : The method catches the exception thrown by program.Critical operation that can raise an exception is inside the try clause. On the other hand, place the code that handles the exceptions in the except clause.If there is an exception, the control jumps to the code in the except block. The error handling code you put in the except block depends on the type of error you think the code in the try block may encounter.\n",
    "\n",
    "Raise: This is a custom exception catch wherein you can optionally pass values to the exception to clarify the reason why it was raised.This is used when we anticipate for a possible exception and handling it on the go. It is a manual process wherein you can optionally pass values to the exception to clarify the reason why it was raised."
   ]
  },
  {
   "cell_type": "markdown",
   "metadata": {},
   "source": [
    "#5\n",
    "\n",
    "The finally block consists of statements which should be processed regardless of an exception occurring in the try block or not.If there no exception,try clause gets executed ,skips the except block and moves to finally condition.Similary if an exception,the appropriate except block will be processed, and the statements in the finally block will be processed before proceeding to the rest of the code.\n",
    "Else ==> The try-except statement has an optional else clause. An else block has to be positioned after all the except clauses. An else clause will be executed if the try clause doesn't raise an exception.\n"
   ]
  },
  {
   "cell_type": "code",
   "execution_count": null,
   "metadata": {},
   "outputs": [],
   "source": []
  }
 ],
 "metadata": {
  "kernelspec": {
   "display_name": "Python 3",
   "language": "python",
   "name": "python3"
  },
  "language_info": {
   "codemirror_mode": {
    "name": "ipython",
    "version": 3
   },
   "file_extension": ".py",
   "mimetype": "text/x-python",
   "name": "python",
   "nbconvert_exporter": "python",
   "pygments_lexer": "ipython3",
   "version": "3.8.3"
  }
 },
 "nbformat": 4,
 "nbformat_minor": 4
}
